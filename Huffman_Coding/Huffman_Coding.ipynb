{
 "cells": [
  {
   "cell_type": "code",
   "execution_count": 1,
   "id": "81106b44-33d8-4c69-9894-21f9322b694a",
   "metadata": {},
   "outputs": [
    {
     "name": "stdout",
     "output_type": "stream",
     "text": [
      "aaaaaaaaaaaaaaaaaaaaaaaaaaaaaaaaaaaaaaaaaaaaaaaaaabbbbbbbbbbccccccccccccccccccccccccccccccdddddeeeff\n"
     ]
    }
   ],
   "source": [
    "# Example-1\n",
    "data=\"a\"*50+\"b\"*10+\"c\"*30+\"d\"*5+\"e\"*3+\"f\"*2\n",
    "print(data)"
   ]
  },
  {
   "cell_type": "code",
   "execution_count": 2,
   "id": "b9c35ae3-687c-480e-9846-47b040e4dd65",
   "metadata": {},
   "outputs": [
    {
     "name": "stdout",
     "output_type": "stream",
     "text": [
      "aabbbbabbbcccdddeeeccceeeddeee\n"
     ]
    }
   ],
   "source": [
    "# Example-2\n",
    "data=\"aabbbbabbbcccdddeeeccceeeddeee\"\n",
    "print(data)"
   ]
  },
  {
   "cell_type": "code",
   "execution_count": 28,
   "id": "4a673b75-99bd-4bcb-adcf-9cd3c32f8d12",
   "metadata": {},
   "outputs": [
    {
     "name": "stdout",
     "output_type": "stream",
     "text": [
      "Huffman compression program\n"
     ]
    },
    {
     "name": "stdin",
     "output_type": "stream",
     "text": [
      "Please enter a string you want to compress aaaaaaaaaaaaaaaaaaaaaaaaaaaaaaaaaaaaaaaaaaaaaaaaaabbbbbbbbbbccccccccccccccccccccccccccccccdddddeeeff\n"
     ]
    },
    {
     "name": "stdout",
     "output_type": "stream",
     "text": [
      "Your message is:  aaaaaaaaaaaaaaaaaaaaaaaaaaaaaaaaaaaaaaaaaaaaaaaaaabbbbbbbbbbccccccccccccccccccccccccccccccdddddeeeff\n",
      "Your message is  800  bits long: \n"
     ]
    }
   ],
   "source": [
    "print(\"Huffman compression program\")\n",
    "\n",
    "my_string = input(\"Please enter a string you want to compress\")\n",
    "len_my_string=len(my_string)\n",
    "print(\"Your message is: \",my_string)\n",
    "print(\"Your message is \",len_my_string*8,\" bits long: \")"
   ]
  },
  {
   "cell_type": "code",
   "execution_count": 29,
   "id": "e62cfc76-1df5-4439-875b-9e9dde23bacc",
   "metadata": {},
   "outputs": [
    {
     "name": "stdout",
     "output_type": "stream",
     "text": [
      "[50, 'a', 10, 'b', 30, 'c', 5, 'd', 3, 'e', 2, 'f']\n",
      "['a', 'b', 'c', 'd', 'e', 'f']\n"
     ]
    }
   ],
   "source": [
    "# Creates a list of characters and their frequency and a list of characters in use\n",
    "\n",
    "letters=[]\n",
    "only_letters=[]\n",
    "for letter in my_string:\n",
    "    if letter not in letters:\n",
    "        freq = my_string.count(letter)\n",
    "        letters.append(freq)\n",
    "        letters.append(letter)\n",
    "        only_letters.append(letter)\n",
    "\n",
    "print(letters)\n",
    "print(only_letters)"
   ]
  },
  {
   "cell_type": "code",
   "execution_count": 30,
   "id": "e7ef901f-eb2f-4945-8cce-23f1f7451f40",
   "metadata": {},
   "outputs": [
    {
     "name": "stdout",
     "output_type": "stream",
     "text": [
      "[[50, 'a'], [10, 'b'], [30, 'c'], [5, 'd'], [3, 'e'], [2, 'f']]\n",
      "[[2, 'f'], [3, 'e'], [5, 'd'], [10, 'b'], [30, 'c'], [50, 'a']]\n"
     ]
    }
   ],
   "source": [
    "# Generates base-level nodes for the huffman_tree frequency and letter \n",
    "\n",
    "nodes=[]\n",
    "while len(letters)>0:\n",
    "    nodes.append(letters[0:2])\n",
    "    letters=letters[2:]\n",
    "print(nodes)\n",
    "nodes.sort()\n",
    "print(nodes)\n",
    "huffman_tree=[]\n",
    "huffman_tree.append(nodes)"
   ]
  },
  {
   "cell_type": "code",
   "execution_count": 31,
   "id": "95184604-ac52-478b-8cfc-b7445e282b0b",
   "metadata": {},
   "outputs": [
    {
     "name": "stdout",
     "output_type": "stream",
     "text": [
      "[[[30, 'cbade']], [[13, 'cb', '0'], [17, 'ade', '1']], [[8, 'ad', '0'], [9, 'e', '1']], [[6, 'c', '0'], [7, 'b', '1'], [9, 'e', '1']], [[3, 'a', '0'], [5, 'd', '1'], [7, 'b', '1']]]\n"
     ]
    }
   ],
   "source": [
    "#  Recursively combines base nodes to create the huffman tree and allocates either a 0 or 1 to each pair of nodes pror to combining which will be later used to create the binary code for each letter\n",
    "\n",
    "def combine(nodes):\n",
    "    pos=0\n",
    "    newnode=[]\n",
    "    # Get 2 lowest nodes\n",
    "    if len(nodes)>1:\n",
    "        nodes.sort()\n",
    "        # adds in the 0,1 for later use\n",
    "        nodes[pos].append(\"0\")\n",
    "        nodes[pos+1].append(\"1\")\n",
    "        combined_node1 = (nodes[pos][0]+nodes[pos+1][0])\n",
    "        combined_node2 = (nodes[pos][1]+nodes[pos+1][1])\n",
    "        newnode.append(combined_node1)\n",
    "        newnode.append(combined_node2)\n",
    "        newnodes=[]\n",
    "        newnodes.append(newnode)\n",
    "        newnodes=newnodes+nodes[2:]\n",
    "        nodes=newnodes\n",
    "        huffman_tree.append(nodes)\n",
    "        combine(nodes)\n",
    "    return huffman_tree\n",
    "print(newnodes)\n",
    "newnodes = combine(nodes)"
   ]
  },
  {
   "cell_type": "code",
   "execution_count": 32,
   "id": "384817fe-bed1-4364-8e7c-34e0efb46c48",
   "metadata": {},
   "outputs": [
    {
     "name": "stdout",
     "output_type": "stream",
     "text": [
      "Here is the huffman tree, showing the merged nodes and binary pathways: \n",
      "Level 0 : [[100, 'abdfec']]\n",
      "Level 1 : [[50, 'a', '0'], [50, 'bdfec', '1']]\n",
      "Level 2 : [[20, 'bdfe', '0'], [30, 'c', '1']]\n",
      "Level 3 : [[10, 'b', '0'], [10, 'dfe', '1'], [50, 'a', '0']]\n",
      "Level 4 : [[5, 'd', '0'], [5, 'fe', '1'], [30, 'c', '1']]\n",
      "Level 5 : [[2, 'f', '0'], [3, 'e', '1'], [10, 'b', '0'], [50, 'a', '0']]\n",
      "\n"
     ]
    }
   ],
   "source": [
    "# tree needs to be inverted \n",
    "huffman_tree.sort(reverse=True)\n",
    "print(\"Here is the huffman tree, showing the merged nodes and binary pathways: \")\n",
    "\n",
    "# remove duplicates\n",
    "checklist=[]\n",
    "for level in huffman_tree:\n",
    "    for node in level:\n",
    "        if node not in checklist:\n",
    "            checklist.append(node)\n",
    "        else:\n",
    "            level.remove(node)\n",
    "# print(checklist)\n",
    "count=0\n",
    "for level in huffman_tree:\n",
    "    print(\"Level\",count,\":\",level)\n",
    "    count+=1\n",
    "print()"
   ]
  },
  {
   "cell_type": "code",
   "execution_count": 33,
   "id": "a6474dc5-0955-44ab-b9f2-4a5e2e69ff15",
   "metadata": {},
   "outputs": [
    {
     "name": "stdout",
     "output_type": "stream",
     "text": [
      "[['a', '0'], ['b', '100'], ['c', '11'], ['d', '1010'], ['e', '10111'], ['f', '10110']]\n"
     ]
    }
   ],
   "source": [
    "# binary code for each character\n",
    "letter_binary=[]\n",
    "# print(checklist)\n",
    "if len(only_letters)==1:\n",
    "    letter_code=[only_letters[0],\"0\"]\n",
    "    letter_binary.append(letter_code*len(my_string))\n",
    "else:\n",
    "    for letter in only_letters:\n",
    "        lettercode=\"\"\n",
    "        for node in checklist:\n",
    "            if len(node)>2 and letter in node[1]:\n",
    "                lettercode = lettercode+node[2]\n",
    "        letter_code = [letter,lettercode]\n",
    "        letter_binary.append(letter_code)\n",
    "print(letter_binary)"
   ]
  },
  {
   "cell_type": "code",
   "execution_count": 34,
   "id": "55caf688-0a46-4b63-b4d5-ac5cecfc5cea",
   "metadata": {},
   "outputs": [
    {
     "name": "stdout",
     "output_type": "stream",
     "text": [
      "Your binary codes are as follows\n",
      "a 0\n",
      "b 100\n",
      "c 11\n",
      "d 1010\n",
      "e 10111\n",
      "f 10110\n"
     ]
    }
   ],
   "source": [
    "# output letters with binary code\n",
    "print(\"Your binary codes are as follows\")\n",
    "for letter in letter_binary:\n",
    "    print(letter[0],letter[1])"
   ]
  },
  {
   "cell_type": "code",
   "execution_count": 35,
   "id": "b94340b6-c66b-4114-a559-d3f1d6675ce9",
   "metadata": {},
   "outputs": [
    {
     "name": "stdout",
     "output_type": "stream",
     "text": [
      "00000000000000000000000000000000000000000000000000100100100100100100100100100100111111111111111111111111111111111111111111111111111111111111101010101010101010101011110111101111011010110\n"
     ]
    }
   ],
   "source": [
    "# bitstring of original message\n",
    "bitstring=\"\"\n",
    "for character in my_string:\n",
    "    for item in letter_binary:\n",
    "        if character in item:\n",
    "            bitstring = bitstring + item[1]\n",
    "print(bitstring)"
   ]
  },
  {
   "cell_type": "code",
   "execution_count": 36,
   "id": "1af45c1d-4109-46c8-b0d9-0e4335e05d71",
   "metadata": {},
   "outputs": [
    {
     "name": "stdout",
     "output_type": "stream",
     "text": [
      "Original size 800\n",
      "Compressed size 185\n",
      "Your message as binary is:  00000000000000000000000000000000000000000000000000100100100100100100100100100100111111111111111111111111111111111111111111111111111111111111101010101010101010101011110111101111011010110\n"
     ]
    }
   ],
   "source": [
    "# actual binary digit\n",
    "# binary = ((bin(int(bitstring,base=2))))\n",
    "\n",
    "# summary of data compression\n",
    "uncompressed_file_size=len(my_string)*8\n",
    "compressed_file_size=len(bitstring)\n",
    "print(\"Original size\",uncompressed_file_size)\n",
    "print(\"Compressed size\",compressed_file_size)\n",
    "\n",
    "# binary message\n",
    "print(\"Your message as binary is: \",bitstring)"
   ]
  }
 ],
 "metadata": {
  "kernelspec": {
   "display_name": "Python 3 (ipykernel)",
   "language": "python",
   "name": "python3"
  },
  "language_info": {
   "codemirror_mode": {
    "name": "ipython",
    "version": 3
   },
   "file_extension": ".py",
   "mimetype": "text/x-python",
   "name": "python",
   "nbconvert_exporter": "python",
   "pygments_lexer": "ipython3",
   "version": "3.12.0"
  }
 },
 "nbformat": 4,
 "nbformat_minor": 5
}
